{
 "cells": [
  {
   "cell_type": "code",
   "execution_count": 1,
   "metadata": {},
   "outputs": [],
   "source": [
    "import numpy\n",
    "import pandas as pd\n",
    "from learning_spaces.kst import iita, simu"
   ]
  },
  {
   "cell_type": "markdown",
   "metadata": {},
   "source": [
    "### Test iita\n",
    "Iita algoritam ocekuje matricu gde svaki red predstavlja pitanje, a svaka kolona studenta. Ako imamo 3 pitanja i 5 studenata, matrica moze izgledati ovako:\n",
    "0\t1\t1\n",
    "1\t1\t0\n",
    "0\t1\t1\n",
    "0\t1\t0\n",
    "0\t1\t0"
   ]
  },
  {
   "cell_type": "code",
   "execution_count": 152,
   "metadata": {},
   "outputs": [
    {
     "name": "stdout",
     "output_type": "stream",
     "text": [
      "{'diff': array([0.        , 0.26470588]), 'implications': [(1, 0)], 'error.rate': -0.0, 'selection.set.index': 0, 'v': 1}\n"
     ]
    },
    {
     "data": {
      "text/html": [
       "<div>\n",
       "<style scoped>\n",
       "    .dataframe tbody tr th:only-of-type {\n",
       "        vertical-align: middle;\n",
       "    }\n",
       "\n",
       "    .dataframe tbody tr th {\n",
       "        vertical-align: top;\n",
       "    }\n",
       "\n",
       "    .dataframe thead th {\n",
       "        text-align: right;\n",
       "    }\n",
       "</style>\n",
       "<table border=\"1\" class=\"dataframe\">\n",
       "  <thead>\n",
       "    <tr style=\"text-align: right;\">\n",
       "      <th></th>\n",
       "      <th>q1</th>\n",
       "      <th>q2</th>\n",
       "    </tr>\n",
       "  </thead>\n",
       "  <tbody>\n",
       "    <tr>\n",
       "      <th>0</th>\n",
       "      <td>0</td>\n",
       "      <td>0</td>\n",
       "    </tr>\n",
       "    <tr>\n",
       "      <th>1</th>\n",
       "      <td>1</td>\n",
       "      <td>1</td>\n",
       "    </tr>\n",
       "    <tr>\n",
       "      <th>2</th>\n",
       "      <td>0</td>\n",
       "      <td>1</td>\n",
       "    </tr>\n",
       "    <tr>\n",
       "      <th>3</th>\n",
       "      <td>0</td>\n",
       "      <td>1</td>\n",
       "    </tr>\n",
       "    <tr>\n",
       "      <th>4</th>\n",
       "      <td>0</td>\n",
       "      <td>1</td>\n",
       "    </tr>\n",
       "  </tbody>\n",
       "</table>\n",
       "</div>"
      ],
      "text/plain": [
       "   q1  q2\n",
       "0   0   0\n",
       "1   1   1\n",
       "2   0   1\n",
       "3   0   1\n",
       "4   0   1"
      ]
     },
     "execution_count": 152,
     "metadata": {},
     "output_type": "execute_result"
    }
   ],
   "source": [
    "\n",
    "data_frame = pd.DataFrame({'q1': [0, 1, 0, 0, 0], 'q2': [0, 1, 1, 1, 1]})\n",
    "response_test = iita(data_frame, v=1)\n",
    "print(response_test)\n",
    "data_frame"
   ]
  },
  {
   "cell_type": "markdown",
   "metadata": {},
   "source": [
    "### Test simu"
   ]
  },
  {
   "cell_type": "code",
   "execution_count": 20,
   "metadata": {},
   "outputs": [
    {
     "data": {
      "text/plain": [
       "array([[1, 1, 0, 1, 1],\n",
       "       [1, 0, 1, 1, 1],\n",
       "       [0, 0, 1, 1, 0]], dtype=int8)"
      ]
     },
     "execution_count": 20,
     "metadata": {},
     "output_type": "execute_result"
    }
   ],
   "source": [
    "implications = [[1,3], [2,4], [3,5], [4,5]]\n",
    "num_of_questions = 5\n",
    "num_of_students = 3\n",
    "response = simu(items=num_of_questions, size=num_of_students, ce=0, lg=0, delta=0, imp=implications)\n",
    "response['dataset']"
   ]
  },
  {
   "cell_type": "markdown",
   "metadata": {},
   "source": [
    "### Test ita & simu together"
   ]
  },
  {
   "cell_type": "code",
   "execution_count": 154,
   "metadata": {},
   "outputs": [],
   "source": [
    "def generate_answers(num_of_questions, num_of_students, implications):\n",
    "  result = simu(items=num_of_questions, size=num_of_students, ce=0.05, lg=0.1, delta=0, imp=implications)\n",
    "  answers = result['dataset']\n",
    "  return answers"
   ]
  },
  {
   "cell_type": "code",
   "execution_count": 159,
   "metadata": {},
   "outputs": [],
   "source": [
    "implications = [(0,1)]\n",
    "answers = generate_answers(num_of_questions=2, num_of_students=5, implications=implications)\n",
    "response = iita(answers, v=1)"
   ]
  },
  {
   "cell_type": "code",
   "execution_count": 160,
   "metadata": {},
   "outputs": [
    {
     "data": {
      "text/html": [
       "<div>\n",
       "<style scoped>\n",
       "    .dataframe tbody tr th:only-of-type {\n",
       "        vertical-align: middle;\n",
       "    }\n",
       "\n",
       "    .dataframe tbody tr th {\n",
       "        vertical-align: top;\n",
       "    }\n",
       "\n",
       "    .dataframe thead th {\n",
       "        text-align: right;\n",
       "    }\n",
       "</style>\n",
       "<table border=\"1\" class=\"dataframe\">\n",
       "  <thead>\n",
       "    <tr style=\"text-align: right;\">\n",
       "      <th></th>\n",
       "      <th>question 0</th>\n",
       "      <th>qustion 1</th>\n",
       "    </tr>\n",
       "  </thead>\n",
       "  <tbody>\n",
       "    <tr>\n",
       "      <th>0</th>\n",
       "      <td>0</td>\n",
       "      <td>0</td>\n",
       "    </tr>\n",
       "    <tr>\n",
       "      <th>1</th>\n",
       "      <td>1</td>\n",
       "      <td>1</td>\n",
       "    </tr>\n",
       "    <tr>\n",
       "      <th>2</th>\n",
       "      <td>1</td>\n",
       "      <td>0</td>\n",
       "    </tr>\n",
       "    <tr>\n",
       "      <th>3</th>\n",
       "      <td>1</td>\n",
       "      <td>1</td>\n",
       "    </tr>\n",
       "    <tr>\n",
       "      <th>4</th>\n",
       "      <td>1</td>\n",
       "      <td>0</td>\n",
       "    </tr>\n",
       "  </tbody>\n",
       "</table>\n",
       "</div>"
      ],
      "text/plain": [
       "   question 0  qustion 1\n",
       "0           0          0\n",
       "1           1          1\n",
       "2           1          0\n",
       "3           1          1\n",
       "4           1          0"
      ]
     },
     "execution_count": 160,
     "metadata": {},
     "output_type": "execute_result"
    }
   ],
   "source": [
    "answers = pd.DataFrame(answers, columns=['question 0', 'qustion 1'])\n",
    "answers"
   ]
  },
  {
   "cell_type": "code",
   "execution_count": 161,
   "metadata": {},
   "outputs": [
    {
     "data": {
      "text/plain": [
       "{'diff': array([0. , 0.4]),\n",
       " 'implications': [(0, 1)],\n",
       " 'error.rate': -0.0,\n",
       " 'selection.set.index': 0,\n",
       " 'v': 1}"
      ]
     },
     "execution_count": 161,
     "metadata": {},
     "output_type": "execute_result"
    }
   ],
   "source": [
    "response"
   ]
  },
  {
   "cell_type": "markdown",
   "metadata": {},
   "source": [
    "# Generate actuall data for a JavaScript Domain"
   ]
  },
  {
   "cell_type": "code",
   "execution_count": 2,
   "metadata": {},
   "outputs": [],
   "source": [
    "def generate_answers(num_of_questions, num_of_students, implications):\n",
    "  result = simu(items=num_of_questions, size=num_of_students, ce=0.05, lg=0.1, delta=0, imp=implications)\n",
    "  answers = result['dataset']\n",
    "  return pd.DataFrame(answers)"
   ]
  },
  {
   "cell_type": "code",
   "execution_count": 3,
   "metadata": {},
   "outputs": [],
   "source": [
    "implications = [(0, 1), (0, 2), (0, 3), (2, 4), (3, 4), (4, 5), (1, 5)] # a JS domain\n",
    "num_of_questions = 6\n",
    "num_of_students = 100\n",
    "answers = generate_answers(num_of_questions, num_of_students, implications)"
   ]
  },
  {
   "cell_type": "code",
   "execution_count": 4,
   "metadata": {},
   "outputs": [
    {
     "data": {
      "text/plain": [
       "{'diff': array([13.00065333,  7.28398667,  8.15752667,  6.92136877,  6.72856797,\n",
       "        11.52848219, 11.38931623, 16.19262168, 19.90351861, 26.64211177,\n",
       "        28.67676637, 55.95113285, 59.32801816]),\n",
       " 'implications': [(0, 2), (0, 3), (0, 5), (1, 5), (4, 5)],\n",
       " 'error.rate': 0.2045632479588413,\n",
       " 'selection.set.index': 4,\n",
       " 'v': 1}"
      ]
     },
     "execution_count": 4,
     "metadata": {},
     "output_type": "execute_result"
    }
   ],
   "source": [
    "response = iita(answers, v=1)\n",
    "response"
   ]
  }
 ],
 "metadata": {
  "interpreter": {
   "hash": "0f004fffeac064b2498a7ed2c5239d8895a7d270f75a0962253b0f63a90dd27b"
  },
  "kernelspec": {
   "display_name": "Python 3.10.0 64-bit ('.venv': venv)",
   "language": "python",
   "name": "python3"
  },
  "language_info": {
   "codemirror_mode": {
    "name": "ipython",
    "version": 3
   },
   "file_extension": ".py",
   "mimetype": "text/x-python",
   "name": "python",
   "nbconvert_exporter": "python",
   "pygments_lexer": "ipython3",
   "version": "3.10.0"
  },
  "orig_nbformat": 4
 },
 "nbformat": 4,
 "nbformat_minor": 2
}
